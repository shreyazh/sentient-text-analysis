{
 "cells": [
  {
   "cell_type": "markdown",
   "id": "d0320fff-21e9-429f-9e55-371ca450208d",
   "metadata": {},
   "source": [
    "# SENTIMENT ANALYSIS "
   ]
  },
  {
   "cell_type": "markdown",
   "id": "6101872a-3ca2-428e-85e9-97e4cc1999d1",
   "metadata": {},
   "source": [
    "### importing textblob and dataclass libraries "
   ]
  },
  {
   "cell_type": "code",
   "execution_count": 3,
   "id": "ec81202d-9dca-4985-b2a7-4c231f501890",
   "metadata": {},
   "outputs": [],
   "source": [
    "\n",
    "from textblob import TextBlob\n",
    "from dataclasses import dataclass\n"
   ]
  },
  {
   "cell_type": "markdown",
   "id": "458ca519-064c-484c-bdb3-cce0a2a1edcc",
   "metadata": {},
   "source": [
    "### class and function"
   ]
  },
  {
   "cell_type": "code",
   "execution_count": 4,
   "id": "c9dd12b3-a0c2-4bec-bc76-b2e7284e1782",
   "metadata": {},
   "outputs": [],
   "source": [
    "\n",
    "\n",
    "@dataclass\n",
    "class Mood:\n",
    "    emoji: str\n",
    "    sentiment: float\n",
    "\n",
    "\n",
    "def get_mood(input_text: str, *, threshold: float) -> Mood:\n",
    "    sentiment: float = TextBlob(input_text).sentiment.polarity\n",
    "\n",
    "    friendly_threshold: float = threshold\n",
    "    hostile_threshold: float = -threshold\n",
    "\n",
    "    if sentiment >= friendly_threshold:\n",
    "        return Mood('😊',sentiment)\n",
    "    elif sentiment <= hostile_threshold:\n",
    "        return Mood('😤',sentiment)\n",
    "    else:\n",
    "        return Mood('😐',sentiment)\n",
    "\n",
    "\n"
   ]
  },
  {
   "cell_type": "markdown",
   "id": "240dbd9c-c79b-48fe-812d-a81902c5157a",
   "metadata": {},
   "source": [
    "### setting the scale equivalent parameters"
   ]
  },
  {
   "cell_type": "code",
   "execution_count": null,
   "id": "dc3e0221-b51f-4f22-ba1c-e432b643f341",
   "metadata": {},
   "outputs": [
    {
     "name": "stdin",
     "output_type": "stream",
     "text": [
      "Enter Text: i love you\n"
     ]
    },
    {
     "name": "stdout",
     "output_type": "stream",
     "text": [
      "😊 (0.5)\n"
     ]
    },
    {
     "name": "stdin",
     "output_type": "stream",
     "text": [
      "Enter Text: i like you so much dear\n"
     ]
    },
    {
     "name": "stdout",
     "output_type": "stream",
     "text": [
      "😐 (0.2)\n"
     ]
    },
    {
     "name": "stdin",
     "output_type": "stream",
     "text": [
      "Enter Text: i am yours\n"
     ]
    },
    {
     "name": "stdout",
     "output_type": "stream",
     "text": [
      "😐 (0.0)\n"
     ]
    },
    {
     "name": "stdin",
     "output_type": "stream",
     "text": [
      "Enter Text: hate you\n"
     ]
    },
    {
     "name": "stdout",
     "output_type": "stream",
     "text": [
      "😤 (-0.8)\n"
     ]
    },
    {
     "name": "stdin",
     "output_type": "stream",
     "text": [
      "Enter Text: i love you so much\n"
     ]
    },
    {
     "name": "stdout",
     "output_type": "stream",
     "text": [
      "😊 (0.35)\n"
     ]
    },
    {
     "name": "stdin",
     "output_type": "stream",
     "text": [
      "Enter Text: i really love you\n"
     ]
    },
    {
     "name": "stdout",
     "output_type": "stream",
     "text": [
      "😊 (0.5)\n"
     ]
    }
   ],
   "source": [
    "if __name__ == '__main__':\n",
    "    while True:\n",
    "        text: str = input('Enter Text:')\n",
    "        mood: Mood = get_mood(text, threshold=0.3)\n",
    "\n",
    "        print(f'{mood.emoji} ({mood.sentiment})')"
   ]
  },
  {
   "cell_type": "code",
   "execution_count": null,
   "id": "65fcdaae-b40e-46d9-b807-cbedb736b132",
   "metadata": {},
   "outputs": [],
   "source": []
  }
 ],
 "metadata": {
  "kernelspec": {
   "display_name": "Python 3 (ipykernel)",
   "language": "python",
   "name": "python3"
  },
  "language_info": {
   "codemirror_mode": {
    "name": "ipython",
    "version": 3
   },
   "file_extension": ".py",
   "mimetype": "text/x-python",
   "name": "python",
   "nbconvert_exporter": "python",
   "pygments_lexer": "ipython3",
   "version": "3.12.3"
  }
 },
 "nbformat": 4,
 "nbformat_minor": 5
}
